{
 "cells": [
  {
   "cell_type": "code",
   "execution_count": 1,
   "id": "d6f7d845",
   "metadata": {},
   "outputs": [],
   "source": [
    "import cv2\n",
    "import os"
   ]
  },
  {
   "cell_type": "code",
   "execution_count": 3,
   "id": "2d13acce",
   "metadata": {},
   "outputs": [],
   "source": [
    "monet_images_dir = r'C:\\Users\\aryan\\Downloads\\monet_jpg'\n",
    "common_size = (256, 256)  "
   ]
  },
  {
   "cell_type": "code",
   "execution_count": 4,
   "id": "bb8517ff",
   "metadata": {},
   "outputs": [],
   "source": [
    "output_dir = r'C:\\Users\\aryan\\Downloads\\preprocessedmonet_jpg'\n",
    "os.makedirs(output_dir, exist_ok=True)\n"
   ]
  },
  {
   "cell_type": "code",
   "execution_count": 5,
   "id": "e7f5eb0f",
   "metadata": {},
   "outputs": [],
   "source": [
    "image_files = os.listdir(monet_images_dir)"
   ]
  },
  {
   "cell_type": "code",
   "execution_count": 6,
   "id": "6e55ff7d",
   "metadata": {},
   "outputs": [],
   "source": [
    "for image_file in image_files:\n",
    "    # Construct the full path of the input image\n",
    "    input_path = os.path.join(monet_images_dir, image_file)\n",
    "\n",
    "    # Read the input image using OpenCV\n",
    "    image = cv2.imread(input_path)\n",
    "\n",
    "    # Resize the image to the common size\n",
    "    resized_image = cv2.resize(image, common_size)\n",
    "\n",
    "    # Normalize pixel values to the range [0, 1]\n",
    "    normalized_image = resized_image / 255.0\n",
    "\n",
    "    # Construct the full path of the output image\n",
    "    output_path = os.path.join(output_dir, image_file)\n",
    "\n",
    "    # Save the preprocessed image\n",
    "    cv2.imwrite(output_path, (normalized_image * 255).astype('uint8'))\n"
   ]
  },
  {
   "cell_type": "code",
   "execution_count": null,
   "id": "acaa8951",
   "metadata": {},
   "outputs": [],
   "source": []
  }
 ],
 "metadata": {
  "kernelspec": {
   "display_name": "Python 3 (ipykernel)",
   "language": "python",
   "name": "python3"
  },
  "language_info": {
   "codemirror_mode": {
    "name": "ipython",
    "version": 3
   },
   "file_extension": ".py",
   "mimetype": "text/x-python",
   "name": "python",
   "nbconvert_exporter": "python",
   "pygments_lexer": "ipython3",
   "version": "3.9.12"
  }
 },
 "nbformat": 4,
 "nbformat_minor": 5
}
